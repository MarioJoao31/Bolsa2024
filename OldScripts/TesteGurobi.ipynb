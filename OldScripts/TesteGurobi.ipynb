{
 "cells": [
  {
   "cell_type": "code",
   "execution_count": 2,
   "id": "ff6e5b24-318b-4682-9647-fcfca22d0367",
   "metadata": {},
   "outputs": [],
   "source": [
    " import gurobipy "
   ]
  },
  {
   "cell_type": "code",
   "execution_count": 3,
   "id": "f3892367-6f34-4450-854c-d5f7815150dd",
   "metadata": {
    "editable": true,
    "slideshow": {
     "slide_type": ""
    },
    "tags": []
   },
   "outputs": [
    {
     "name": "stdout",
     "output_type": "stream",
     "text": [
      "[(1, 1), (1, 3), (1, 4), (2, 1), (2, 2), (2, 4), (3, 2), (3, 3)]\n"
     ]
    }
   ],
   "source": [
    "maquinas = (1,2,3,4)\n",
    "productos = (1,2,3)\n",
    "# Secuencia: {Producto: [Maquina i, Maquina j...] }\n",
    "secuencia={1:[1,3,4],2:[1,2,4],3: [2,3]}\n",
    "# Tiempo (producto, maquina)\n",
    "tiempo ={(1, 1): 30,\n",
    "(1, 3): 40,\n",
    "(1, 4): 20,\n",
    "(2, 1): 25,\n",
    "(2, 2): 25,\n",
    "(2, 4): 10,\n",
    "(3, 2): 10,\n",
    "(3, 3): 30,\n",
    "(3, 4): 10}\n",
    "arcos = [(i,j) for i in productos for j in secuencia[i]]\n",
    "print(arcos)"
   ]
  },
  {
   "cell_type": "code",
   "execution_count": null,
   "id": "fedf9cb6-aad8-43f5-99cc-f123afbdf6ea",
   "metadata": {},
   "outputs": [],
   "source": []
  }
 ],
 "metadata": {
  "kernelspec": {
   "display_name": "Python 3 (ipykernel)",
   "language": "python",
   "name": "python3"
  },
  "language_info": {
   "codemirror_mode": {
    "name": "ipython",
    "version": 3
   },
   "file_extension": ".py",
   "mimetype": "text/x-python",
   "name": "python",
   "nbconvert_exporter": "python",
   "pygments_lexer": "ipython3",
   "version": "3.9.6"
  }
 },
 "nbformat": 4,
 "nbformat_minor": 5
}
